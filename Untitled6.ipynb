{
  "nbformat": 4,
  "nbformat_minor": 0,
  "metadata": {
    "colab": {
      "provenance": [],
      "authorship_tag": "ABX9TyP66MH3ZNacdcZYLmWNHXge",
      "include_colab_link": true
    },
    "kernelspec": {
      "name": "python3",
      "display_name": "Python 3"
    },
    "language_info": {
      "name": "python"
    }
  },
  "cells": [
    {
      "cell_type": "markdown",
      "metadata": {
        "id": "view-in-github",
        "colab_type": "text"
      },
      "source": [
        "<a href=\"https://colab.research.google.com/github/Stanly-t/basic-6/blob/main/Untitled6.ipynb\" target=\"_parent\"><img src=\"https://colab.research.google.com/assets/colab-badge.svg\" alt=\"Open In Colab\"/></a>"
      ]
    },
    {
      "cell_type": "code",
      "execution_count": 8,
      "metadata": {
        "id": "UvgumfmynE__",
        "colab": {
          "base_uri": "https://localhost:8080/"
        },
        "outputId": "10bbc5d0-34de-4df9-99a2-16aba07d04d7"
      },
      "outputs": [
        {
          "name": "stdout",
          "output_type": "stream",
          "text": [
            "enter passenger's travel source  kochi\n",
            "enter passenger's travel destination vytilla\n",
            "enter the number of passenger  3\n"
          ]
        }
      ],
      "source": [
        "x=(input(\"enter passenger's travel source  \"))\n",
        "y=(input(\"enter passenger's travel destination \"))\n",
        "z=(input(\"enter the number of passenger  \"))\n"
      ]
    },
    {
      "cell_type": "code",
      "source": [
        "x=int(input(\"Total ticket fare \"))\n",
        "z=int(input(\"No of Passengers \"))\n",
        "Totalfare=print(x/z)\n",
        "\n"
      ],
      "metadata": {
        "colab": {
          "base_uri": "https://localhost:8080/"
        },
        "id": "gR6o9qhdpOB-",
        "outputId": "e6b12686-11ba-4861-cc30-814af10e68ee"
      },
      "execution_count": 10,
      "outputs": [
        {
          "output_type": "stream",
          "name": "stdout",
          "text": [
            "Total ticket fare 500\n",
            "No of Passengers 2\n",
            "250.0\n"
          ]
        }
      ]
    },
    {
      "cell_type": "code",
      "source": [
        "x=input(\"Passengers Name \")\n",
        "y=int(input(\"Ticket fare \"))\n",
        "print(x,y)\n"
      ],
      "metadata": {
        "colab": {
          "base_uri": "https://localhost:8080/"
        },
        "id": "3ZEPHKZYrI2B",
        "outputId": "c7eaec5b-5fd6-4e3e-d90e-1e26877d2c6a"
      },
      "execution_count": 11,
      "outputs": [
        {
          "output_type": "stream",
          "name": "stdout",
          "text": [
            "Passengers Name stanly\n",
            "Ticket fare 12345\n",
            "stanly 12345\n"
          ]
        }
      ]
    },
    {
      "cell_type": "code",
      "source": [
        "x=int(input(\"Total ticket fare \"))\n",
        "z=int(input(\"No of Passengers \"))\n",
        "Totalfare=print(x/z) \n",
        "if x>10000:\n",
        "  print(\"Eligible for discount\")\n",
        "\n",
        "\n"
      ],
      "metadata": {
        "colab": {
          "base_uri": "https://localhost:8080/"
        },
        "id": "yAoDdkFLsw-d",
        "outputId": "b8a89882-8997-4a10-c7db-a26e05d91fca"
      },
      "execution_count": 15,
      "outputs": [
        {
          "output_type": "stream",
          "name": "stdout",
          "text": [
            "Total ticket fare 500000\n",
            "No of Passengers 2\n",
            "250000.0\n",
            "Eligible for discount\n"
          ]
        }
      ]
    },
    {
      "cell_type": "code",
      "source": [
        "x=int(input(\"Total ticket fare \"))\n",
        "z=int(input(\"No of Passengers \")) \n",
        "if x>15000:\n",
        "  print(\"Eligible for 20% discount\")\n",
        "else :\n",
        "  print(\"Eligible for 10% discount\")\n",
        "  \n"
      ],
      "metadata": {
        "colab": {
          "base_uri": "https://localhost:8080/"
        },
        "id": "xbN6cD5ouiSJ",
        "outputId": "07e02226-c4b4-4dc8-df3f-14978e34408b"
      },
      "execution_count": 19,
      "outputs": [
        {
          "output_type": "stream",
          "name": "stdout",
          "text": [
            "Total ticket fare 1000\n",
            "No of Passengers 1\n",
            "Eligible for 10% discount\n"
          ]
        }
      ]
    },
    {
      "cell_type": "code",
      "source": [
        "x=int(input(\"Total ticket fare \"))\n",
        "z=int(input(\"No of Passengers \")) \n",
        "if x>15000:\n",
        "  print(\"Eligible for 20% discount\")\n",
        "  print(x*80/100)\n",
        "elif x>10000 :\n",
        "  print(\"Eligible for 10% discount\")\n",
        "  print(x*90/100)\n",
        "if x<10000:\n",
        "  print(\"Eligible for 5% discount\")\n",
        "  print(x*95/100)"
      ],
      "metadata": {
        "colab": {
          "base_uri": "https://localhost:8080/"
        },
        "id": "YGRH8iIOv5W9",
        "outputId": "eefcb774-658d-43ea-d3cc-b0e6ad76e043"
      },
      "execution_count": 29,
      "outputs": [
        {
          "output_type": "stream",
          "name": "stdout",
          "text": [
            "Total ticket fare 4000\n",
            "No of Passengers 1\n",
            "Eligible for 5% discount\n",
            "3800.0\n"
          ]
        }
      ]
    },
    {
      "cell_type": "code",
      "source": [
        "x=int(input(\"Enter A Number \"))\n",
        "if x>0:\n",
        "  print(\"Positive\")\n",
        "elif x<0:\n",
        "  print(\"Negative\")\n",
        "else:\n",
        "  print(\"Zero\")"
      ],
      "metadata": {
        "colab": {
          "base_uri": "https://localhost:8080/"
        },
        "id": "vSqLC-7nwifL",
        "outputId": "55fb2388-7ffc-46fc-e6c0-628d4abd03af"
      },
      "execution_count": 31,
      "outputs": [
        {
          "output_type": "stream",
          "name": "stdout",
          "text": [
            "Enter A Number -1\n",
            "Negative\n"
          ]
        }
      ]
    },
    {
      "cell_type": "code",
      "source": [
        "x=int(input(\"Age of Passenger \"))\n",
        "if x>17:\n",
        "  print(\"Adult\")\n",
        "if x>11 and x<17:\n",
        "  print(\"Teenager\")\n",
        "elif x>5 and x<11:\n",
        "  print(\"Kid\")\n",
        "else:\n",
        "  print(\"Infant\")\n",
        "  "
      ],
      "metadata": {
        "colab": {
          "base_uri": "https://localhost:8080/"
        },
        "id": "LYz1mmlQzHa-",
        "outputId": "c94c622a-b996-4dc4-be25-34242e484f87"
      },
      "execution_count": 39,
      "outputs": [
        {
          "output_type": "stream",
          "name": "stdout",
          "text": [
            "Age of Passenger 12\n",
            "Teenager\n"
          ]
        }
      ]
    },
    {
      "cell_type": "code",
      "source": [
        "x=input(\"Passengers Initial \")\n",
        "if x==\"A\":\n",
        "  print(\"Vowel\")\n",
        "elif x==\"E\":\n",
        "  print(\"Vowel\")\n",
        "elif x==\"I\":\n",
        "  print(\"Vowel\")\n",
        "elif x==\"O\":\n",
        "  print(\"Vowel\")\n",
        "elif x==\"U\":\n",
        "  print(\"Vowel\")\n",
        "else:\n",
        "  print(\"Not Vowel\")"
      ],
      "metadata": {
        "colab": {
          "base_uri": "https://localhost:8080/"
        },
        "id": "E0c24EV900aQ",
        "outputId": "3d40c87e-ae31-45dd-b26b-cb6372219cd8"
      },
      "execution_count": 40,
      "outputs": [
        {
          "output_type": "stream",
          "name": "stdout",
          "text": [
            "Passengers Initial s\n",
            "Not Vowel\n"
          ]
        }
      ]
    },
    {
      "cell_type": "code",
      "source": [
        "x=input(\"Enter Your Name \")\n",
        "for a in x:\n",
        "  print(a)"
      ],
      "metadata": {
        "colab": {
          "base_uri": "https://localhost:8080/"
        },
        "id": "vIbvBAn01805",
        "outputId": "ea4a5c78-0fd5-4f80-9adf-031c46277c5d"
      },
      "execution_count": 41,
      "outputs": [
        {
          "output_type": "stream",
          "name": "stdout",
          "text": [
            "Enter Your Name stanly\n",
            "s\n",
            "t\n",
            "a\n",
            "n\n",
            "l\n",
            "y\n"
          ]
        }
      ]
    },
    {
      "cell_type": "code",
      "source": [
        "for a in range (45,88,2):\n",
        "  print(a)"
      ],
      "metadata": {
        "colab": {
          "base_uri": "https://localhost:8080/"
        },
        "id": "peGiINFO6NBZ",
        "outputId": "71777e9b-565f-4104-d560-1615e43efeac"
      },
      "execution_count": 42,
      "outputs": [
        {
          "output_type": "stream",
          "name": "stdout",
          "text": [
            "45\n",
            "47\n",
            "49\n",
            "51\n",
            "53\n",
            "55\n",
            "57\n",
            "59\n",
            "61\n",
            "63\n",
            "65\n",
            "67\n",
            "69\n",
            "71\n",
            "73\n",
            "75\n",
            "77\n",
            "79\n",
            "81\n",
            "83\n",
            "85\n",
            "87\n"
          ]
        }
      ]
    },
    {
      "cell_type": "code",
      "source": [
        "for a in range (1,10,2):\n",
        "  print(a)"
      ],
      "metadata": {
        "colab": {
          "base_uri": "https://localhost:8080/"
        },
        "id": "95sw63Ho_Is8",
        "outputId": "abaa2186-0998-4ac3-a9d8-7145dc04f86e"
      },
      "execution_count": 43,
      "outputs": [
        {
          "output_type": "stream",
          "name": "stdout",
          "text": [
            "1\n",
            "3\n",
            "5\n",
            "7\n",
            "9\n"
          ]
        }
      ]
    },
    {
      "cell_type": "code",
      "source": [],
      "metadata": {
        "id": "0wXrmH05_OGF"
      },
      "execution_count": null,
      "outputs": []
    }
  ]
}