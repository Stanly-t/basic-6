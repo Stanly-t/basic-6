{
  "nbformat": 4,
  "nbformat_minor": 0,
  "metadata": {
    "colab": {
      "provenance": [],
      "authorship_tag": "ABX9TyNgdb26TbL0VCB1Ah9vAADH",
      "include_colab_link": true
    },
    "kernelspec": {
      "name": "python3",
      "display_name": "Python 3"
    },
    "language_info": {
      "name": "python"
    }
  },
  "cells": [
    {
      "cell_type": "markdown",
      "metadata": {
        "id": "view-in-github",
        "colab_type": "text"
      },
      "source": [
        "<a href=\"https://colab.research.google.com/github/Stanly-t/basic-6/blob/main/Untitled7.ipynb\" target=\"_parent\"><img src=\"https://colab.research.google.com/assets/colab-badge.svg\" alt=\"Open In Colab\"/></a>"
      ]
    },
    {
      "cell_type": "code",
      "execution_count": null,
      "metadata": {
        "colab": {
          "base_uri": "https://localhost:8080/"
        },
        "id": "gbH-Bez_jJsz",
        "outputId": "2ab23399-9109-46d0-f9e3-4067703ff535"
      },
      "outputs": [
        {
          "output_type": "stream",
          "name": "stdout",
          "text": [
            "-2\n",
            "absolute value of 2 is 2\n"
          ]
        }
      ],
      "source": [
        "num=int(input())\n",
        "if(num>0):\n",
        "  print(\"absolute value of \", num, \"is\",num)\n",
        "else:\n",
        "  num=num*(-1)\n",
        "  print(\"absolute value of\", num, \"is\",num)"
      ]
    },
    {
      "cell_type": "code",
      "source": [
        "num=int(input())\n",
        "if(num>0):\n",
        "  print(\"absolute value of \", num, \"is\",num)\n",
        "else:\n",
        "  num=num*(-1)\n",
        "  print(\"absolute value of\", num, \"is\",num)"
      ],
      "metadata": {
        "colab": {
          "base_uri": "https://localhost:8080/"
        },
        "id": "Ouhj08PolqYm",
        "outputId": "578b1e7c-256c-4d70-dd6d-6af4889f02f5"
      },
      "execution_count": null,
      "outputs": [
        {
          "output_type": "stream",
          "name": "stdout",
          "text": [
            "1\n",
            "absolute value of  1 is 1\n"
          ]
        }
      ]
    },
    {
      "cell_type": "code",
      "source": [
        "x=int(input(\"enter your mark \"))\n",
        "if x<25:\n",
        "  print(\"your grade is F\")\n",
        "elif 25<x<=45:\n",
        "  print(\"your grade is E\")\n",
        "elif 45<x<=50:\n",
        "  print(\"your grade is D\")\n",
        "elif 50<x<=60:\n",
        "  print(\"your grade is C\")\n",
        "elif 60<x<=80:\n",
        "  print(\"your grade is B\")\n",
        "elif x>80 :\n",
        "  print(\"your grade is A\")\n"
      ],
      "metadata": {
        "colab": {
          "base_uri": "https://localhost:8080/"
        },
        "id": "Vcl7B3DKmckC",
        "outputId": "2c389786-b46a-4baa-bd9d-8f87e0246b5e"
      },
      "execution_count": null,
      "outputs": [
        {
          "output_type": "stream",
          "name": "stdout",
          "text": [
            "enter your mark 40\n",
            "your grade is E\n"
          ]
        }
      ]
    },
    {
      "cell_type": "code",
      "source": [
        "n1=int(input(\"present days \"))\n",
        "n2=int(input(\"total days \"))\n",
        "p=n1/n2*100\n",
        "print(p)\n",
        "if p>75:\n",
        "  print(\"Student is allowed to sit in exam\")\n",
        "else:\n",
        "  print(\"Student is not allowed to sit in exam\")\n"
      ],
      "metadata": {
        "colab": {
          "base_uri": "https://localhost:8080/"
        },
        "id": "wmxFptB1nJR-",
        "outputId": "494637d3-0f53-467a-c097-3f47f6a2561d"
      },
      "execution_count": null,
      "outputs": [
        {
          "output_type": "stream",
          "name": "stdout",
          "text": [
            "present days 20\n",
            "total days 25\n",
            "80.0\n",
            "Student is allowed to sit in exam\n"
          ]
        }
      ]
    },
    {
      "cell_type": "code",
      "source": [],
      "metadata": {
        "id": "t1DMaLuYrjxp"
      },
      "execution_count": 23,
      "outputs": []
    },
    {
      "cell_type": "code",
      "source": [
        "print(\"1,addition\")\n",
        "print(\"2,substraction\")\n",
        "print(\"3,multiplication\")\n",
        "print(\"4,division\")\n",
        "print(\"5,modulus\")\n",
        "print(\"6,floor division\")\n",
        "print(\"7,exponent\")\n",
        "z=int(input(\"enter a number \"))\n",
        "x=int(input(\"first number \"))\n",
        "y=int(input(\"second number \"))\n",
        "if z==1:\n",
        "  print(x+y)\n",
        "if z==2:\n",
        "  print(x-y)\n",
        "if z==3:\n",
        "  print(x/y)\n",
        "if z==4:\n",
        "  print(x*y)\n",
        "if z==5:\n",
        "  print(x%y)\n",
        "if z==6:\n",
        "  print(x//y)\n",
        "if z==7:\n",
        "  print(x**y)"
      ],
      "metadata": {
        "colab": {
          "base_uri": "https://localhost:8080/"
        },
        "id": "do8QndNGuP9f",
        "outputId": "7dfa0bcc-4ff8-4a90-8792-a05210a48bed"
      },
      "execution_count": 28,
      "outputs": [
        {
          "output_type": "stream",
          "name": "stdout",
          "text": [
            "1,addition\n",
            "2,substraction\n",
            "3,multiplication\n",
            "4,division\n",
            "5,modulus\n",
            "6,floor division\n",
            "7,exponent\n",
            "enter a number 2\n",
            "first number 5\n",
            "second number 4\n",
            "1\n"
          ]
        }
      ]
    },
    {
      "cell_type": "code",
      "source": [
        "z=int(input(\"enter a number \"))\n",
        "x=int(input(\"first number \"))\n",
        "y=int(input(\"second number \"))\n",
        "if z==1:\n",
        "  print(x+y)\n",
        "if z==2:\n",
        "  print(x-y)\n",
        "if z==3:\n",
        "  print(x/y)\n",
        "if z==4:\n",
        "  print(x*y)\n",
        "if z==5:\n",
        "  print(x%y)\n",
        "if z==6:\n",
        "  print(x//y)\n",
        "if z==7:\n",
        "  print(x**y)"
      ],
      "metadata": {
        "colab": {
          "base_uri": "https://localhost:8080/"
        },
        "id": "kK1ElAGvwTVG",
        "outputId": "c7804912-40f6-4884-9fb8-d8906820f9ad"
      },
      "execution_count": 27,
      "outputs": [
        {
          "output_type": "stream",
          "name": "stdout",
          "text": [
            "enter a number 5\n",
            "first number -2\n",
            "second number 5\n",
            "3\n"
          ]
        }
      ]
    },
    {
      "cell_type": "code",
      "source": [
        "print(\"Basic Calculator - Enter Numbers 1-4 to choose operation: \")\n",
        "print(\"1.Add\")\n",
        "print(\"2.Substract\")\n",
        "print(\"3.Multiply\")\n",
        "print(\"4.Divide\")\n",
        "\n",
        "x=int(input(\"Enter Choice(1-4): \"))\n",
        "\n",
        "if x==1:\n",
        "    a=int(input(\"Enter First Number:\"))\n",
        "    b=int(input(\"Enter Second Number:\"))\n",
        "    c=a+b\n",
        "    print(\"Sum = \",c)\n",
        "elif x==2:\n",
        "    a=int(input(\"Enter First Number:\"))\n",
        "    b=int(input(\"Enter Second Number:\"))\n",
        "    c=a-b\n",
        "    print(\"Difference = \",c)\n",
        "elif  x==3:\n",
        "    a=int(input(\"Enter First Number:\"))\n",
        "    b=int(input(\"Enter Second Number:\"))\n",
        "    c=a*b\n",
        "    print(\"Product = \",c)\n",
        "elif x==4:\n",
        "    a=int(input(\"Enter First Number:\"))\n",
        "    b=int(input(\"Enter Second Number:\"))\n",
        "    c=a/b\n",
        "    print(\"Quotient = \",c)\n",
        "else:\n",
        "    print(\"Invalid\")"
      ],
      "metadata": {
        "colab": {
          "base_uri": "https://localhost:8080/"
        },
        "id": "KSf811cvxSvE",
        "outputId": "28e80227-b93e-4800-9c6c-3dd36c0f33a4"
      },
      "execution_count": 30,
      "outputs": [
        {
          "output_type": "stream",
          "name": "stdout",
          "text": [
            "Basic Calculator - Enter Numbers 1-4 to choose operation: \n",
            "1.Add\n",
            "2.Substract\n",
            "3.Multiply\n",
            "4.Divide\n",
            "Enter Choice(1-4): 4\n",
            "Enter First Number:4\n",
            "Enter Second Number:1\n",
            "Quotient =  4.0\n"
          ]
        }
      ]
    },
    {
      "cell_type": "code",
      "source": [
        "x1=int(input('Enter marks of first subject '))\n",
        "x2=int(input('Enter marks of second subject '))\n",
        "x3=int(input('Enter marks of third subject '))\n",
        "x4=int(input('Enter marks of fourth subject '))\n",
        "x5=int(input('Enter marks of fifth subject '))\n",
        "print('Least marks:',min(x1,x2,x3,x4,x5))\n",
        "print('Maximum marks:',max(x1,x2,x3,x4,x5))"
      ],
      "metadata": {
        "colab": {
          "base_uri": "https://localhost:8080/"
        },
        "id": "EoT7DBAL3gX2",
        "outputId": "fb353b21-fd37-4934-97e5-a7c8bea97cee"
      },
      "execution_count": 31,
      "outputs": [
        {
          "output_type": "stream",
          "name": "stdout",
          "text": [
            "Enter marks of first subject 50\n",
            "Enter marks of second subject 40\n",
            "Enter marks of third subject 45\n",
            "Enter marks of fourth subject 50\n",
            "Enter marks of fifth subject 10\n",
            "Least marks: 10\n",
            "Maximum marks: 50\n"
          ]
        }
      ]
    },
    {
      "cell_type": "code",
      "source": [
        "x1=int(input('Enter marks of first subject '))\n",
        "x2=int(input('Enter marks of second subject '))\n",
        "x3=int(input('Enter marks of third subject '))\n",
        "x4=int(input('Enter marks of fourth subject '))\n",
        "x5=int(input('Enter marks of fifth subject '))\n",
        "m=(x1+x2+x3+x4+x5)\n",
        "print(m/5)"
      ],
      "metadata": {
        "colab": {
          "base_uri": "https://localhost:8080/"
        },
        "id": "Lour__-o4mLA",
        "outputId": "03b33fbf-b20a-4f85-c1dd-7a345a4d15a3"
      },
      "execution_count": 36,
      "outputs": [
        {
          "output_type": "stream",
          "name": "stdout",
          "text": [
            "Enter marks of first subject 1\n",
            "Enter marks of second subject 2\n",
            "Enter marks of third subject 3\n",
            "Enter marks of fourth subject 3\n",
            "Enter marks of fifth subject 1\n",
            "2.0\n"
          ]
        }
      ]
    },
    {
      "cell_type": "code",
      "source": [
        "2"
      ],
      "metadata": {
        "id": "sDafEJT35SE2"
      },
      "execution_count": null,
      "outputs": []
    }
  ]
}