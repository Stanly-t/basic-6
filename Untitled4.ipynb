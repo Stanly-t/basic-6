{
  "nbformat": 4,
  "nbformat_minor": 0,
  "metadata": {
    "colab": {
      "provenance": [],
      "collapsed_sections": [],
      "authorship_tag": "ABX9TyMUPjusGyZcVNa7n9auIa2f",
      "include_colab_link": true
    },
    "kernelspec": {
      "name": "python3",
      "display_name": "Python 3"
    },
    "language_info": {
      "name": "python"
    }
  },
  "cells": [
    {
      "cell_type": "markdown",
      "metadata": {
        "id": "view-in-github",
        "colab_type": "text"
      },
      "source": [
        "<a href=\"https://colab.research.google.com/github/Stanly-t/basic-6/blob/main/Untitled4.ipynb\" target=\"_parent\"><img src=\"https://colab.research.google.com/assets/colab-badge.svg\" alt=\"Open In Colab\"/></a>"
      ]
    },
    {
      "cell_type": "code",
      "execution_count": null,
      "metadata": {
        "id": "AZCacde4sLMC"
      },
      "outputs": [],
      "source": [
        "def stanly():\n",
        "  print(\"hello world\")"
      ]
    },
    {
      "cell_type": "code",
      "source": [
        "stanly()"
      ],
      "metadata": {
        "colab": {
          "base_uri": "https://localhost:8080/"
        },
        "id": "PoW62i4ws_cB",
        "outputId": "c542109d-b786-44bc-82e6-658a179d6784"
      },
      "execution_count": null,
      "outputs": [
        {
          "output_type": "stream",
          "name": "stdout",
          "text": [
            "hello world\n"
          ]
        }
      ]
    },
    {
      "cell_type": "code",
      "source": [
        "def stanly(x,y):\n",
        "  z=x+y\n",
        "  print(\"result = \",z)"
      ],
      "metadata": {
        "id": "9FbXHO1mtQ7Z"
      },
      "execution_count": null,
      "outputs": []
    },
    {
      "cell_type": "code",
      "source": [
        "stanly(5,6)"
      ],
      "metadata": {
        "colab": {
          "base_uri": "https://localhost:8080/"
        },
        "id": "f3zXTfX7uwye",
        "outputId": "f313c654-a5bf-4911-cd01-28f861b88ffe"
      },
      "execution_count": null,
      "outputs": [
        {
          "output_type": "stream",
          "name": "stdout",
          "text": [
            "result =  11\n"
          ]
        }
      ]
    },
    {
      "cell_type": "code",
      "source": [
        "def stanly(x,y):\n",
        "  z=x-y\n",
        "  print(\"result = \",z)"
      ],
      "metadata": {
        "id": "_P7s7Mhmu3_S"
      },
      "execution_count": null,
      "outputs": []
    },
    {
      "cell_type": "code",
      "source": [
        "stanly(9,5)"
      ],
      "metadata": {
        "colab": {
          "base_uri": "https://localhost:8080/"
        },
        "id": "LIapYdg0u-OC",
        "outputId": "173c59ee-2cee-4e09-f864-ecba32e7160c"
      },
      "execution_count": null,
      "outputs": [
        {
          "output_type": "stream",
          "name": "stdout",
          "text": [
            "result =  4\n"
          ]
        }
      ]
    },
    {
      "cell_type": "code",
      "source": [
        "def stanly(x,y):\n",
        "  z=x*y\n",
        "  print(\"result = \",z)\n",
        "  "
      ],
      "metadata": {
        "id": "PUz-PmBEvCl_"
      },
      "execution_count": null,
      "outputs": []
    },
    {
      "cell_type": "code",
      "source": [
        "stanly(3,4)"
      ],
      "metadata": {
        "colab": {
          "base_uri": "https://localhost:8080/"
        },
        "id": "eWqDfHZvvGxA",
        "outputId": "ffb34458-6c1a-4d98-eac4-14abaf72869b"
      },
      "execution_count": null,
      "outputs": [
        {
          "output_type": "stream",
          "name": "stdout",
          "text": [
            "result =  12\n"
          ]
        }
      ]
    },
    {
      "cell_type": "code",
      "source": [
        "def stanly(y):\n",
        "  if y<250000:\n",
        "    print(\"no tax\")\n",
        "  if y>250000:\n",
        "    print(\"tax\")\n",
        "\n",
        "\n",
        "\n",
        "\n"
      ],
      "metadata": {
        "id": "BxKLHzumvKZd"
      },
      "execution_count": null,
      "outputs": []
    },
    {
      "cell_type": "code",
      "source": [
        "x=int(input(\"enter salary \"))\n",
        "stanly(x)\n"
      ],
      "metadata": {
        "colab": {
          "base_uri": "https://localhost:8080/"
        },
        "id": "WPCUB6VCwbuj",
        "outputId": "c016fc9f-a685-4f95-bf5d-96a44292f9e3"
      },
      "execution_count": null,
      "outputs": [
        {
          "output_type": "stream",
          "name": "stdout",
          "text": [
            "enter salary 300000\n",
            "tax\n"
          ]
        }
      ]
    },
    {
      "cell_type": "code",
      "source": [
        "def stanly(y):\n",
        "  k=0\n",
        "  for a in range(y):\n",
        "    k=k+a\n",
        "  print(k)\n"
      ],
      "metadata": {
        "id": "7HdDQKII2DM3"
      },
      "execution_count": null,
      "outputs": []
    },
    {
      "cell_type": "code",
      "source": [
        "x=int(input(\"Enter a number \"))\n",
        "stanly(x)\n"
      ],
      "metadata": {
        "colab": {
          "base_uri": "https://localhost:8080/"
        },
        "id": "jJnRG04Z5fyZ",
        "outputId": "b8aef087-6467-4a6f-e953-4959d3459b64"
      },
      "execution_count": null,
      "outputs": [
        {
          "output_type": "stream",
          "name": "stdout",
          "text": [
            "Enter a number 10\n",
            "45\n"
          ]
        }
      ]
    },
    {
      "cell_type": "code",
      "source": [
        "x=int(input(\"Enter a number \"))\n",
        "y=int(input(\"Enter a number \"))\n",
        "def add(x,y):\n",
        "  print(x+y)\n",
        "add(x,y)"
      ],
      "metadata": {
        "id": "BwnxkKTX6VwI",
        "colab": {
          "base_uri": "https://localhost:8080/"
        },
        "outputId": "37b100a1-fb9c-41de-84d5-78259ba9ff6e"
      },
      "execution_count": 46,
      "outputs": [
        {
          "output_type": "stream",
          "name": "stdout",
          "text": [
            "Enter a number 4\n",
            "Enter a number 5\n",
            "9\n"
          ]
        }
      ]
    },
    {
      "cell_type": "code",
      "source": [
        "5"
      ],
      "metadata": {
        "id": "_bDu61sb865x"
      },
      "execution_count": null,
      "outputs": []
    }
  ]
}