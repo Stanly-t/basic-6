{
  "nbformat": 4,
  "nbformat_minor": 0,
  "metadata": {
    "colab": {
      "provenance": [],
      "collapsed_sections": [],
      "authorship_tag": "ABX9TyPW7cbBSxt52LKBbDmv9AY2",
      "include_colab_link": true
    },
    "kernelspec": {
      "name": "python3",
      "display_name": "Python 3"
    },
    "language_info": {
      "name": "python"
    }
  },
  "cells": [
    {
      "cell_type": "markdown",
      "metadata": {
        "id": "view-in-github",
        "colab_type": "text"
      },
      "source": [
        "<a href=\"https://colab.research.google.com/github/Stanly-t/basic-6/blob/main/Untitled5.ipynb\" target=\"_parent\"><img src=\"https://colab.research.google.com/assets/colab-badge.svg\" alt=\"Open In Colab\"/></a>"
      ]
    },
    {
      "cell_type": "code",
      "execution_count": null,
      "metadata": {
        "id": "_zq9Fi2nhQ4Y"
      },
      "outputs": [],
      "source": [
        "x=10"
      ]
    },
    {
      "cell_type": "code",
      "source": [
        "x"
      ],
      "metadata": {
        "colab": {
          "base_uri": "https://localhost:8080/"
        },
        "id": "2vG-2OfHhVpq",
        "outputId": "9137e496-81a8-4e9f-e0ed-5bc14225ec9c"
      },
      "execution_count": null,
      "outputs": [
        {
          "output_type": "execute_result",
          "data": {
            "text/plain": [
              "10"
            ]
          },
          "metadata": {},
          "execution_count": 8
        }
      ]
    },
    {
      "cell_type": "code",
      "source": [
        "name=input(\"Enter the name \")\n",
        "print(name)\n"
      ],
      "metadata": {
        "colab": {
          "base_uri": "https://localhost:8080/"
        },
        "id": "LzkAjOxBiF_B",
        "outputId": "b6adba99-8cd8-48c3-ff28-abd9090e18bd"
      },
      "execution_count": null,
      "outputs": [
        {
          "output_type": "stream",
          "name": "stdout",
          "text": [
            "Enter the name stanly\n",
            "stanly\n"
          ]
        }
      ]
    },
    {
      "cell_type": "code",
      "source": [
        "name=input(\"enter the name \")\n",
        "print(name)\n",
        "\n",
        "x=int(input(\"enter your mark 1 \"))\n",
        "y=int(input(\"enter your mark 2 \"))\n",
        "z=int(input(\"enter your mark 3 \"))\n",
        "total =x + y + z\n",
        "print(total)\n",
        "\n",
        "\n"
      ],
      "metadata": {
        "colab": {
          "base_uri": "https://localhost:8080/"
        },
        "id": "Q6N7kUgHiidW",
        "outputId": "627a7b70-8dd5-4937-eaa4-8aa24b0a9f6e"
      },
      "execution_count": null,
      "outputs": [
        {
          "output_type": "stream",
          "name": "stdout",
          "text": [
            "enter the name sam\n",
            "sam\n",
            "enter your mark 1 45\n",
            "enter your mark 2 30\n",
            "enter your mark 3 15\n",
            "90\n"
          ]
        }
      ]
    },
    {
      "cell_type": "code",
      "source": [
        "name=input(\"enter the name \")\n",
        "print(name)\n",
        "\n",
        "x=int(input(\"enter your mark 1 \"))\n",
        "y=int(input(\"enter your mark 2 \"))\n",
        "z=int(input(\"enter your mark 3 \"))\n",
        "total =x + y + z\n",
        "print(total)\n",
        "print(total/3)\n"
      ],
      "metadata": {
        "colab": {
          "base_uri": "https://localhost:8080/"
        },
        "id": "r-9M7yCGlxKl",
        "outputId": "c1e5a93e-72eb-4c01-d98c-f73ef1a50a6d"
      },
      "execution_count": null,
      "outputs": [
        {
          "output_type": "stream",
          "name": "stdout",
          "text": [
            "enter the name azsd\n",
            "azsd\n",
            "enter your mark 1 12\n",
            "enter your mark 2 445\n",
            "enter your mark 3 54\n",
            "511\n",
            "170.33333333333334\n"
          ]
        }
      ]
    },
    {
      "cell_type": "code",
      "source": [
        "x=int(input(\"enter your mark 1 \"))\n",
        "y=int(input(\"enter your mark 2 \"))\n",
        "\n",
        "if x>y:\n",
        "  print(x,\" is larger\")\n",
        "else:\n",
        "  print(x, \"is smaller\")\n",
        "\n"
      ],
      "metadata": {
        "colab": {
          "base_uri": "https://localhost:8080/"
        },
        "id": "IemYlEQil--t",
        "outputId": "d6b506c6-eb99-4c8c-f8fa-035ee50a3d79"
      },
      "execution_count": null,
      "outputs": [
        {
          "output_type": "stream",
          "name": "stdout",
          "text": [
            "enter your mark 1 45\n",
            "enter your mark 2 21\n",
            "45  is larger\n"
          ]
        }
      ]
    },
    {
      "cell_type": "code",
      "source": [
        "x=int(input(\"enter your mark 1 \"))\n",
        "y=int(input(\"enter your mark 2 \"))\n",
        "\n",
        "if x>y:\n",
        "  print(\"x is larger\")\n",
        "else:\n",
        "  print(\"x is smaller\")\n"
      ],
      "metadata": {
        "colab": {
          "base_uri": "https://localhost:8080/"
        },
        "id": "t0kEVEqwo6mX",
        "outputId": "a52a4cc5-aacd-40a7-e9ac-c0c6f4ac04bd"
      },
      "execution_count": null,
      "outputs": [
        {
          "output_type": "stream",
          "name": "stdout",
          "text": [
            "enter your mark 1 15\n",
            "enter your mark 2 62\n",
            "x is smaller\n"
          ]
        }
      ]
    },
    {
      "cell_type": "code",
      "source": [
        "x=int(input(\"enter one number \"))\n",
        "y=int(input(\"enter one number \"))\n",
        "z=int(input(\"enter one number \"))\n",
        "if x>y and z:\n",
        "  print(x, \"is larger\")\n",
        "if y>x and z:\n",
        "  print(y, \"is larger\")\n",
        "if z>y and x:\n",
        "  print(z, \"is larger\")\n",
        "\n"
      ],
      "metadata": {
        "colab": {
          "base_uri": "https://localhost:8080/"
        },
        "id": "Xw4ZKux5pp8v",
        "outputId": "f2c107dc-b7d1-42f5-f92b-60c0e9d145d3"
      },
      "execution_count": null,
      "outputs": [
        {
          "output_type": "stream",
          "name": "stdout",
          "text": [
            "enter one number 1\n",
            "enter one number 5\n",
            "enter one number 2\n",
            "5 is larger\n"
          ]
        }
      ]
    },
    {
      "cell_type": "code",
      "source": [
        "x=int(input(\"enter one number \"))\n",
        "if x%2==0:\n",
        "  print(x, \"is even\")\n",
        "else:\n",
        "  print(x, \"is odd \")\n",
        "\n"
      ],
      "metadata": {
        "id": "eY6a64_0rHEd",
        "colab": {
          "base_uri": "https://localhost:8080/"
        },
        "outputId": "dea18345-455f-4569-b810-44458d97ceba"
      },
      "execution_count": 65,
      "outputs": [
        {
          "output_type": "stream",
          "name": "stdout",
          "text": [
            "enter one number 62\n",
            "62 is even\n"
          ]
        }
      ]
    },
    {
      "cell_type": "code",
      "source": [
        "for i in range(1,11):\n",
        "  print(i)\n"
      ],
      "metadata": {
        "colab": {
          "base_uri": "https://localhost:8080/"
        },
        "id": "7SmOXgzBv-41",
        "outputId": "6e45c546-ca9e-4220-fbd0-9005383e0885"
      },
      "execution_count": 52,
      "outputs": [
        {
          "output_type": "stream",
          "name": "stdout",
          "text": [
            "1\n",
            "2\n",
            "3\n",
            "4\n",
            "5\n",
            "6\n",
            "7\n",
            "8\n",
            "9\n",
            "10\n"
          ]
        }
      ]
    },
    {
      "cell_type": "code",
      "source": [
        "for i in range(0,11,2):\n",
        "  print(i)"
      ],
      "metadata": {
        "colab": {
          "base_uri": "https://localhost:8080/"
        },
        "id": "ZQb6br3F0TDm",
        "outputId": "4a6489f0-d82a-48ed-f9a1-088ee5f6de69"
      },
      "execution_count": 62,
      "outputs": [
        {
          "output_type": "stream",
          "name": "stdout",
          "text": [
            "0\n",
            "2\n",
            "4\n",
            "6\n",
            "8\n",
            "10\n"
          ]
        }
      ]
    },
    {
      "cell_type": "code",
      "source": [
        "for i in range(0,11):\n",
        "  print(i)\n",
        "  if i%2==0:"
      ],
      "metadata": {
        "colab": {
          "base_uri": "https://localhost:8080/",
          "height": 130
        },
        "id": "QpEdqqa_0fw2",
        "outputId": "adf6d05d-77a1-4269-db45-03349973a9a1"
      },
      "execution_count": 66,
      "outputs": [
        {
          "output_type": "error",
          "ename": "SyntaxError",
          "evalue": "ignored",
          "traceback": [
            "\u001b[0;36m  File \u001b[0;32m\"<ipython-input-66-6aff17587cde>\"\u001b[0;36m, line \u001b[0;32m3\u001b[0m\n\u001b[0;31m    if i%2==0:\u001b[0m\n\u001b[0m              ^\u001b[0m\n\u001b[0;31mSyntaxError\u001b[0m\u001b[0;31m:\u001b[0m unexpected EOF while parsing\n"
          ]
        }
      ]
    },
    {
      "cell_type": "code",
      "source": [],
      "metadata": {
        "id": "N2hr8llT1urw"
      },
      "execution_count": null,
      "outputs": []
    }
  ]
}