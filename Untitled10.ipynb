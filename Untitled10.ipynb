{
  "nbformat": 4,
  "nbformat_minor": 0,
  "metadata": {
    "colab": {
      "provenance": [],
      "authorship_tag": "ABX9TyPvfvE6YjhV0yHXMxe4XBGo",
      "include_colab_link": true
    },
    "kernelspec": {
      "name": "python3",
      "display_name": "Python 3"
    },
    "language_info": {
      "name": "python"
    }
  },
  "cells": [
    {
      "cell_type": "markdown",
      "metadata": {
        "id": "view-in-github",
        "colab_type": "text"
      },
      "source": [
        "<a href=\"https://colab.research.google.com/github/Stanly-t/basic-6/blob/main/Untitled10.ipynb\" target=\"_parent\"><img src=\"https://colab.research.google.com/assets/colab-badge.svg\" alt=\"Open In Colab\"/></a>"
      ]
    },
    {
      "cell_type": "code",
      "execution_count": 2,
      "metadata": {
        "colab": {
          "base_uri": "https://localhost:8080/"
        },
        "id": "q9Se8ZOTsZPI",
        "outputId": "87c4b86c-7060-4252-a70f-cf336e8d7a5a"
      },
      "outputs": [
        {
          "output_type": "stream",
          "name": "stdout",
          "text": [
            "Hello World\n"
          ]
        }
      ],
      "source": [
        "def fun_name():\n",
        "  print(\"Hello World\")\n",
        "\n",
        "fun_name()"
      ]
    },
    {
      "cell_type": "code",
      "source": [
        "def fun_name(x):\n",
        "  print(\"Hello World \" + x )\n",
        "\n",
        "fun_name(\"stanly\")"
      ],
      "metadata": {
        "colab": {
          "base_uri": "https://localhost:8080/"
        },
        "id": "J_ChgSb5tEHM",
        "outputId": "dfb00b59-93a1-4389-af2d-9fa9835ada9d"
      },
      "execution_count": 8,
      "outputs": [
        {
          "output_type": "stream",
          "name": "stdout",
          "text": [
            "Hello World stanly\n"
          ]
        }
      ]
    },
    {
      "cell_type": "code",
      "source": [
        "def fun_name():\n",
        "  print(\"Fifa world cup 2022\")\n",
        "\n",
        "fun_name()"
      ],
      "metadata": {
        "colab": {
          "base_uri": "https://localhost:8080/"
        },
        "id": "D5OvVyXItm3B",
        "outputId": "5cac6e2e-d64b-4a29-d665-8ae4191d755e"
      },
      "execution_count": 9,
      "outputs": [
        {
          "output_type": "stream",
          "name": "stdout",
          "text": [
            "Fifa world cup 2022\n"
          ]
        }
      ]
    },
    {
      "cell_type": "code",
      "source": [
        "def call(x,y,z):\n",
        "  print(x,y,z)\n",
        "\n",
        "call(\"stanly\",\"tomy\",\"mathew\")"
      ],
      "metadata": {
        "colab": {
          "base_uri": "https://localhost:8080/"
        },
        "id": "qsdgAhPjvPej",
        "outputId": "8c5eab5a-332f-49d5-c24f-94666befaa94"
      },
      "execution_count": 12,
      "outputs": [
        {
          "output_type": "stream",
          "name": "stdout",
          "text": [
            "stanly tomy mathew\n"
          ]
        }
      ]
    },
    {
      "cell_type": "code",
      "source": [
        "def call(country = \"Norway\"):\n",
        "  print(\"I am from \" + country)\n",
        "\n",
        "call(\"sweden\")\n",
        "call(\"India\")\n",
        "call()\n",
        "call(\"brazil\")"
      ],
      "metadata": {
        "colab": {
          "base_uri": "https://localhost:8080/"
        },
        "id": "Kv3i8rRI0ksc",
        "outputId": "9f220c20-0d68-41bd-9f4b-35f2f970ce63"
      },
      "execution_count": 14,
      "outputs": [
        {
          "output_type": "stream",
          "name": "stdout",
          "text": [
            "I am from sweden\n",
            "I am from India\n",
            "I am from Norway\n",
            "I am from brazil\n"
          ]
        }
      ]
    },
    {
      "cell_type": "code",
      "source": [
        " "
      ],
      "metadata": {
        "id": "Xf4VNwDN2OKG"
      },
      "execution_count": null,
      "outputs": []
    }
  ]
}